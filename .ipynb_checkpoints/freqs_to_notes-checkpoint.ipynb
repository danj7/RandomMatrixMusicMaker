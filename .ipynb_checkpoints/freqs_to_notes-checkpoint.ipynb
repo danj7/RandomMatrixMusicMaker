{
 "cells": [
  {
   "cell_type": "code",
   "execution_count": 1,
   "metadata": {},
   "outputs": [],
   "source": [
    "import numpy as np\n",
    "import matplotlib.pyplot as plt"
   ]
  },
  {
   "cell_type": "code",
   "execution_count": 2,
   "metadata": {},
   "outputs": [
    {
     "name": "stdout",
     "output_type": "stream",
     "text": [
      "[[3759.73962377 2815.95705569]\n",
      " [3785.79387102 1354.81860973]]\n"
     ]
    },
    {
     "data": {
      "text/plain": [
       "<matplotlib.image.AxesImage at 0x7f046a774d10>"
      ]
     },
     "execution_count": 2,
     "metadata": {},
     "output_type": "execute_result"
    },
    {
     "data": {
      "image/png": "[encoded data removed]",
      "text/plain": [
       "<Figure size 432x288 with 1 Axes>"
      ]
     },
     "metadata": {
      "needs_background": "light"
     },
     "output_type": "display_data"
    }
   ],
   "source": [
    "freqs = 4000.0 * np.random.random((2,2)) + 20\n",
    "print(freqs)\n",
    "plt.imshow(freqs)"
   ]
  },
  {
   "cell_type": "code",
   "execution_count": 3,
   "metadata": {},
   "outputs": [
    {
     "data": {
      "text/plain": [
       "<matplotlib.image.AxesImage at 0x7f04690c0a90>"
      ]
     },
     "execution_count": 3,
     "metadata": {},
     "output_type": "execute_result"
    },
    {
     "data": {
      "image/png": "[encoded data removed]",
      "text/plain": [
       "<Figure size 432x288 with 1 Axes>"
      ]
     },
     "metadata": {
      "needs_background": "light"
     },
     "output_type": "display_data"
    }
   ],
   "source": [
    "plt.imshow(freqs*.0123)"
   ]
  },
  {
   "cell_type": "code",
   "execution_count": 4,
   "metadata": {},
   "outputs": [],
   "source": [
    "notes_dict_array_hz = {\n",
    "            'C': [16.352, 32.703, 65.406, 130.81, 261.63, 523.25, 1046.5, 2093.0],\n",
    "            'C#':[17.324, 34.648, 69.296, 138.59, 277.18, 554.37, 1108.7, 2217.5],\n",
    "            'D': [18.354, 36.708, 73.416, 146.83, 293.66, 587.33, 1174.7, 2349.3],\n",
    "            'D#':[19.445, 38.891, 77.782, 155.56, 311.13, 622.25, 1244.5, 2489.0],\n",
    "            'E': [ 20.602, 41.203, 82.407, 164.81, 329.63, 659.26, 1318.5, 2637.0],\n",
    "            'F': [ 21.827, 43.654, 87.307, 174.61, 349.23, 698.46, 1396.9, 2793.8],\n",
    "            'F#':[ 23.125, 46.249, 92.499, 185.0, 369.99, 739.99, 1480.0, 2960.0],\n",
    "            'G': [24.5, 48.999, 97.999, 196.0, 392.0, 783.99, 1568.0, 3136.0],\n",
    "            'G#':[ 25.957, 51.913, 103.83, 207.65, 415.3, 830.61, 1661.2, 3322.4],\n",
    "            'A': [27.5, 55.0, 110.0, 220.0, 440.0, 880.0, 1760.0, 3520.0],\n",
    "            'A#':[ 29.135, 58.27, 116.54, 233.08, 466.16, 932.33, 1864.7, 3729.3],\n",
    "            'B': [ 30.868, 61.735, 123.47, 246.94, 493.88, 987.77, 1975.5, 3951.1]\n",
    "        }"
   ]
  },
  {
   "cell_type": "code",
   "execution_count": 5,
   "metadata": {},
   "outputs": [
    {
     "name": "stdout",
     "output_type": "stream",
     "text": [
      "1 8\n",
      "2 8\n",
      "3 8\n",
      "4 8\n",
      "5 8\n",
      "6 8\n",
      "7 8\n",
      "8 8\n",
      "9 8\n",
      "10 8\n",
      "11 8\n",
      "12 8\n"
     ]
    }
   ],
   "source": [
    "for i, n in enumerate(notes_dict_array_hz.values()):\n",
    "    print(i+1, len(n))"
   ]
  },
  {
   "cell_type": "code",
   "execution_count": 6,
   "metadata": {},
   "outputs": [
    {
     "data": {
      "text/plain": [
       "array(['C', 'C#', 'D', 'D#', 'E', 'F', 'F#', 'G', 'G#', 'A', 'A#', 'B'],\n",
       "      dtype='<U2')"
      ]
     },
     "execution_count": 6,
     "metadata": {},
     "output_type": "execute_result"
    }
   ],
   "source": [
    "notes = np.array(list(notes_dict_array_hz.keys()))\n",
    "notes"
   ]
  },
  {
   "cell_type": "code",
   "execution_count": 7,
   "metadata": {
    "scrolled": false
   },
   "outputs": [
    {
     "data": {
      "text/plain": [
       "array([  16.352,   17.324,   18.354,   19.445,   20.602,   21.827,\n",
       "         23.125,   24.5  ,   25.957,   27.5  ,   29.135,   30.868,\n",
       "         32.703,   34.648,   36.708,   38.891,   41.203,   43.654,\n",
       "         46.249,   48.999,   51.913,   55.   ,   58.27 ,   61.735,\n",
       "         65.406,   69.296,   73.416,   77.782,   82.407,   87.307,\n",
       "         92.499,   97.999,  103.83 ,  110.   ,  116.54 ,  123.47 ,\n",
       "        130.81 ,  138.59 ,  146.83 ,  155.56 ,  164.81 ,  174.61 ,\n",
       "        185.   ,  196.   ,  207.65 ,  220.   ,  233.08 ,  246.94 ,\n",
       "        261.63 ,  277.18 ,  293.66 ,  311.13 ,  329.63 ,  349.23 ,\n",
       "        369.99 ,  392.   ,  415.3  ,  440.   ,  466.16 ,  493.88 ,\n",
       "        523.25 ,  554.37 ,  587.33 ,  622.25 ,  659.26 ,  698.46 ,\n",
       "        739.99 ,  783.99 ,  830.61 ,  880.   ,  932.33 ,  987.77 ,\n",
       "       1046.5  , 1108.7  , 1174.7  , 1244.5  , 1318.5  , 1396.9  ,\n",
       "       1480.   , 1568.   , 1661.2  , 1760.   , 1864.7  , 1975.5  ,\n",
       "       2093.   , 2217.5  , 2349.3  , 2489.   , 2637.   , 2793.8  ,\n",
       "       2960.   , 3136.   , 3322.4  , 3520.   , 3729.3  , 3951.1  ])"
      ]
     },
     "execution_count": 7,
     "metadata": {},
     "output_type": "execute_result"
    }
   ],
   "source": [
    "notes_freqs = list(notes_dict_array_hz.values())\n",
    "notes_freqs = np.array([[f for f in sublist] for sublist in notes_freqs])\n",
    "notes_freqs = notes_freqs.T.flatten()\n",
    "notes_freqs"
   ]
  },
  {
   "cell_type": "code",
   "execution_count": 8,
   "metadata": {},
   "outputs": [
    {
     "data": {
      "text/plain": [
       "array([3759.73962377, 2815.95705569, 3785.79387102, 1354.81860973])"
      ]
     },
     "execution_count": 8,
     "metadata": {},
     "output_type": "execute_result"
    }
   ],
   "source": [
    "freqs.flatten()"
   ]
  },
  {
   "cell_type": "code",
   "execution_count": 9,
   "metadata": {},
   "outputs": [
    {
     "name": "stdout",
     "output_type": "stream",
     "text": [
      "[94 89 94 76]\n"
     ]
    }
   ],
   "source": [
    "residuals = np.subtract.outer(freqs.flatten(), notes_freqs)\n",
    "notes_indices = np.argmin(abs(residuals), axis=1)\n",
    "print(notes_indices)"
   ]
  },
  {
   "cell_type": "code",
   "execution_count": 11,
   "metadata": {},
   "outputs": [
    {
     "data": {
      "text/plain": [
       "<matplotlib.image.AxesImage at 0x7f046916dd90>"
      ]
     },
     "execution_count": 11,
     "metadata": {},
     "output_type": "execute_result"
    },
    {
     "data": {
      "image/png": "[encoded data removed]",
      "text/plain": [
       "<Figure size 432x288 with 1 Axes>"
      ]
     },
     "metadata": {
      "needs_background": "light"
     },
     "output_type": "display_data"
    }
   ],
   "source": [
    "notes_freqs[notes_indices]\n",
    "plt.imshow(notes_freqs[notes_indices].reshape((2,2)))"
   ]
  },
  {
   "cell_type": "code",
   "execution_count": null,
   "metadata": {},
   "outputs": [],
   "source": [
    "melody_notes = notes[notes_indices % len(notes)]\n",
    "print(melody_notes)"
   ]
  },
  {
   "cell_type": "code",
   "execution_count": null,
   "metadata": {},
   "outputs": [],
   "source": [
    "melody_indices = notes_indices // len(notes)\n",
    "print(melody_indices)"
   ]
  },
  {
   "cell_type": "code",
   "execution_count": null,
   "metadata": {},
   "outputs": [],
   "source": [
    "melody = 'Melody: '\n",
    "for a, b in list(zip(melody_notes, melody_indices)):\n",
    "    print(a+str(b))"
   ]
  },
  {
   "cell_type": "markdown",
   "metadata": {},
   "source": [
    "# Testing"
   ]
  },
  {
   "cell_type": "code",
   "execution_count": 23,
   "metadata": {},
   "outputs": [
    {
     "name": "stdout",
     "output_type": "stream",
     "text": [
      "[[0.2573548  0.5346702  0.16456496 0.66900633]\n",
      " [0.60361592 0.45310497 0.03717572 0.95896963]\n",
      " [0.72700361 0.85486289 0.94596449 0.8877718 ]\n",
      " [0.35989499 0.89024353 0.51380434 0.44238886]]\n"
     ]
    }
   ],
   "source": [
    "arr = np.random.random((4,4))\n",
    "print(arr)"
   ]
  },
  {
   "cell_type": "code",
   "execution_count": 21,
   "metadata": {},
   "outputs": [],
   "source": [
    "arr = None"
   ]
  },
  {
   "cell_type": "code",
   "execution_count": 20,
   "metadata": {},
   "outputs": [
    {
     "name": "stdout",
     "output_type": "stream",
     "text": [
      "its none\n"
     ]
    }
   ],
   "source": [
    "if np.all(arr):\n",
    "    print('its arr')\n",
    "else:\n",
    "    print('its none')"
   ]
  },
  {
   "cell_type": "code",
   "execution_count": 24,
   "metadata": {},
   "outputs": [],
   "source": [
    "if arr is None:\n",
    "    print('opp none')"
   ]
  },
  {
   "cell_type": "code",
   "execution_count": null,
   "metadata": {},
   "outputs": [],
   "source": []
  },
  {
   "cell_type": "code",
   "execution_count": null,
   "metadata": {},
   "outputs": [],
   "source": []
  },
  {
   "cell_type": "code",
   "execution_count": null,
   "metadata": {},
   "outputs": [],
   "source": []
  },
  {
   "cell_type": "code",
   "execution_count": null,
   "metadata": {},
   "outputs": [],
   "source": []
  },
  {
   "cell_type": "code",
   "execution_count": null,
   "metadata": {},
   "outputs": [],
   "source": []
  },
  {
   "cell_type": "code",
   "execution_count": null,
   "metadata": {},
   "outputs": [],
   "source": []
  },
  {
   "cell_type": "code",
   "execution_count": null,
   "metadata": {},
   "outputs": [],
   "source": []
  },
  {
   "cell_type": "code",
   "execution_count": null,
   "metadata": {},
   "outputs": [],
   "source": []
  },
  {
   "cell_type": "code",
   "execution_count": null,
   "metadata": {},
   "outputs": [],
   "source": []
  },
  {
   "cell_type": "code",
   "execution_count": null,
   "metadata": {},
   "outputs": [],
   "source": []
  },
  {
   "cell_type": "code",
   "execution_count": null,
   "metadata": {},
   "outputs": [],
   "source": []
  },
  {
   "cell_type": "code",
   "execution_count": null,
   "metadata": {},
   "outputs": [],
   "source": []
  },
  {
   "cell_type": "code",
   "execution_count": null,
   "metadata": {},
   "outputs": [],
   "source": []
  },
  {
   "cell_type": "code",
   "execution_count": null,
   "metadata": {},
   "outputs": [],
   "source": []
  },
  {
   "cell_type": "code",
   "execution_count": null,
   "metadata": {},
   "outputs": [],
   "source": []
  },
  {
   "cell_type": "code",
   "execution_count": null,
   "metadata": {},
   "outputs": [],
   "source": []
  },
  {
   "cell_type": "code",
   "execution_count": null,
   "metadata": {},
   "outputs": [],
   "source": []
  },
  {
   "cell_type": "code",
   "execution_count": null,
   "metadata": {},
   "outputs": [],
   "source": []
  },
  {
   "cell_type": "code",
   "execution_count": null,
   "metadata": {},
   "outputs": [],
   "source": []
  },
  {
   "cell_type": "code",
   "execution_count": null,
   "metadata": {},
   "outputs": [],
   "source": []
  },
  {
   "cell_type": "code",
   "execution_count": null,
   "metadata": {},
   "outputs": [],
   "source": []
  },
  {
   "cell_type": "code",
   "execution_count": null,
   "metadata": {},
   "outputs": [],
   "source": []
  },
  {
   "cell_type": "code",
   "execution_count": null,
   "metadata": {},
   "outputs": [],
   "source": []
  },
  {
   "cell_type": "code",
   "execution_count": null,
   "metadata": {},
   "outputs": [],
   "source": []
  },
  {
   "cell_type": "code",
   "execution_count": null,
   "metadata": {},
   "outputs": [],
   "source": []
  },
  {
   "cell_type": "code",
   "execution_count": null,
   "metadata": {},
   "outputs": [],
   "source": []
  },
  {
   "cell_type": "code",
   "execution_count": null,
   "metadata": {},
   "outputs": [],
   "source": []
  },
  {
   "cell_type": "code",
   "execution_count": null,
   "metadata": {},
   "outputs": [],
   "source": []
  },
  {
   "cell_type": "code",
   "execution_count": null,
   "metadata": {},
   "outputs": [],
   "source": []
  },
  {
   "cell_type": "code",
   "execution_count": null,
   "metadata": {},
   "outputs": [],
   "source": []
  },
  {
   "cell_type": "code",
   "execution_count": null,
   "metadata": {},
   "outputs": [],
   "source": []
  },
  {
   "cell_type": "code",
   "execution_count": null,
   "metadata": {},
   "outputs": [],
   "source": []
  },
  {
   "cell_type": "code",
   "execution_count": null,
   "metadata": {},
   "outputs": [],
   "source": []
  }
 ],
 "metadata": {
  "kernelspec": {
   "display_name": "Python 3",
   "language": "python",
   "name": "python3"
  },
  "language_info": {
   "codemirror_mode": {
    "name": "ipython",
    "version": 3
   },
   "file_extension": ".py",
   "mimetype": "text/x-python",
   "name": "python",
   "nbconvert_exporter": "python",
   "pygments_lexer": "ipython3",
   "version": "3.7.4"
  }
 },
 "nbformat": 4,
 "nbformat_minor": 4
}
